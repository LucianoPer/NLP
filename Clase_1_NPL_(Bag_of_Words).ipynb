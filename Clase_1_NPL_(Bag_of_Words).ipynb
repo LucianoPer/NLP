{
  "nbformat": 4,
  "nbformat_minor": 0,
  "metadata": {
    "colab": {
      "name": "Clase 1 - NPL (Bag of Words).ipynb",
      "provenance": [],
      "collapsed_sections": []
    },
    "kernelspec": {
      "name": "python3",
      "display_name": "Python 3"
    }
  },
  "cells": [
    {
      "cell_type": "markdown",
      "metadata": {
        "id": "LOysyfYOzVq6"
      },
      "source": [
        "##● Ejercicios:\n",
        "(1) Dado un corpus de documentos representados por una lista de textos, devolver una matriz con la representación one-hot-encoding.\n",
        "\n",
        "(2) Dado un corpus de documentos representados por una lista de textos, devolver una matriz con la representación vectores de frecuencia.\n",
        "\n",
        "(3) Dado un corpus de documentos representados por una lista de textos, devolver una matriz con la representación TFIDF.\n",
        "\n",
        "(4) Escribir una función que reciba la matriz representando el corpus y el índice de un documento y devuelva los documentos ordenados por similitud coseno.\n",
        "\n",
        "(5) Implementar (3) con matrices sparse de la librería SciPy."
      ]
    },
    {
      "cell_type": "code",
      "metadata": {
        "id": "gOX20MZvzQJA"
      },
      "source": [
        "  import numpy as np\n",
        "  import pandas as pd"
      ],
      "execution_count": 1,
      "outputs": []
    },
    {
      "cell_type": "code",
      "metadata": {
        "id": "4ytZRP1L1dLv"
      },
      "source": [
        "# creamos un dataframe para los documentos \n",
        "\n",
        "doc = pd.DataFrame({'texto':['hola como estas a que hora llegas','que tal te va como estas como viniste',\n",
        "                                                               'buenos dias donde estas','de donde sos nunca te vi por aca',\n",
        "                                                               'hola estoy afuera de tu casa donde estas','estoy a dos cuadras llegando',\n",
        "                                                               'ey como te fue en tu nuevo trabajo','no estoy en mi casa te llamo luego',\n",
        "                                                               'te busco por el aeropuerto','hola hola hola cuando llegas']})"
      ],
      "execution_count": 30,
      "outputs": []
    },
    {
      "cell_type": "code",
      "metadata": {
        "id": "zOr3wl124H8N",
        "outputId": "f1ebc5f5-566e-496d-c385-f7ef1245182f",
        "colab": {
          "base_uri": "https://localhost:8080/",
          "height": 363
        }
      },
      "source": [
        "doc"
      ],
      "execution_count": 31,
      "outputs": [
        {
          "output_type": "execute_result",
          "data": {
            "text/html": [
              "<div>\n",
              "<style scoped>\n",
              "    .dataframe tbody tr th:only-of-type {\n",
              "        vertical-align: middle;\n",
              "    }\n",
              "\n",
              "    .dataframe tbody tr th {\n",
              "        vertical-align: top;\n",
              "    }\n",
              "\n",
              "    .dataframe thead th {\n",
              "        text-align: right;\n",
              "    }\n",
              "</style>\n",
              "<table border=\"1\" class=\"dataframe\">\n",
              "  <thead>\n",
              "    <tr style=\"text-align: right;\">\n",
              "      <th></th>\n",
              "      <th>texto</th>\n",
              "    </tr>\n",
              "  </thead>\n",
              "  <tbody>\n",
              "    <tr>\n",
              "      <th>0</th>\n",
              "      <td>hola como estas a que hora llegas</td>\n",
              "    </tr>\n",
              "    <tr>\n",
              "      <th>1</th>\n",
              "      <td>que tal te va como estas como viniste</td>\n",
              "    </tr>\n",
              "    <tr>\n",
              "      <th>2</th>\n",
              "      <td>buenos dias donde estas</td>\n",
              "    </tr>\n",
              "    <tr>\n",
              "      <th>3</th>\n",
              "      <td>de donde sos nunca te vi por aca</td>\n",
              "    </tr>\n",
              "    <tr>\n",
              "      <th>4</th>\n",
              "      <td>hola estoy afuera de tu casa donde estas</td>\n",
              "    </tr>\n",
              "    <tr>\n",
              "      <th>5</th>\n",
              "      <td>estoy a dos cuadras llegando</td>\n",
              "    </tr>\n",
              "    <tr>\n",
              "      <th>6</th>\n",
              "      <td>ey como te fue en tu nuevo trabajo</td>\n",
              "    </tr>\n",
              "    <tr>\n",
              "      <th>7</th>\n",
              "      <td>no estoy en mi casa te llamo luego</td>\n",
              "    </tr>\n",
              "    <tr>\n",
              "      <th>8</th>\n",
              "      <td>te busco por el aeropuerto</td>\n",
              "    </tr>\n",
              "    <tr>\n",
              "      <th>9</th>\n",
              "      <td>hola hola hola cuando llegas</td>\n",
              "    </tr>\n",
              "  </tbody>\n",
              "</table>\n",
              "</div>"
            ],
            "text/plain": [
              "                                      texto\n",
              "0         hola como estas a que hora llegas\n",
              "1     que tal te va como estas como viniste\n",
              "2                   buenos dias donde estas\n",
              "3          de donde sos nunca te vi por aca\n",
              "4  hola estoy afuera de tu casa donde estas\n",
              "5              estoy a dos cuadras llegando\n",
              "6        ey como te fue en tu nuevo trabajo\n",
              "7        no estoy en mi casa te llamo luego\n",
              "8                te busco por el aeropuerto\n",
              "9              hola hola hola cuando llegas"
            ]
          },
          "metadata": {
            "tags": []
          },
          "execution_count": 31
        }
      ]
    },
    {
      "cell_type": "code",
      "metadata": {
        "id": "fTLX7pfS4YJv",
        "outputId": "9c659d53-544f-49e9-e3f9-cb8b4dae88cb",
        "colab": {
          "base_uri": "https://localhost:8080/"
        }
      },
      "source": [
        "# ONE HOT ENCODING\n",
        "corpus  = doc['texto']\n",
        "corpus"
      ],
      "execution_count": 32,
      "outputs": [
        {
          "output_type": "execute_result",
          "data": {
            "text/plain": [
              "0           hola como estas a que hora llegas\n",
              "1       que tal te va como estas como viniste\n",
              "2                     buenos dias donde estas\n",
              "3            de donde sos nunca te vi por aca\n",
              "4    hola estoy afuera de tu casa donde estas\n",
              "5                estoy a dos cuadras llegando\n",
              "6          ey como te fue en tu nuevo trabajo\n",
              "7          no estoy en mi casa te llamo luego\n",
              "8                  te busco por el aeropuerto\n",
              "9                hola hola hola cuando llegas\n",
              "Name: texto, dtype: object"
            ]
          },
          "metadata": {
            "tags": []
          },
          "execution_count": 32
        }
      ]
    },
    {
      "cell_type": "markdown",
      "metadata": {
        "id": "bsod8gmS3BR3"
      },
      "source": [
        "Representacion en **One Hot Encoding**"
      ]
    },
    {
      "cell_type": "code",
      "metadata": {
        "id": "e8b54Gqr9sNR"
      },
      "source": [
        "corpus_f = []\n",
        "for frase in corpus:\n",
        "  corpus_f+=(frase.split())\n",
        "  #for palabra in frase:\n",
        "   # corpus_f.append(palabra)\n",
        "corpus_uniq = np.array(corpus_f).flatten()"
      ],
      "execution_count": 33,
      "outputs": []
    },
    {
      "cell_type": "code",
      "metadata": {
        "id": "XklsDNcAG7g3"
      },
      "source": [
        "pal,count = np.unique(corpus_uniq,return_counts=True)\n",
        "corpus_dict_frec = dict(zip(pal,count))\n",
        "corpus_pos =dict(zip(pal,np.arange(pal.shape[0])))"
      ],
      "execution_count": 34,
      "outputs": []
    },
    {
      "cell_type": "code",
      "metadata": {
        "id": "JW2MBleBP4Wi",
        "outputId": "a8688d6e-7145-45ba-928a-913994604a9c",
        "colab": {
          "base_uri": "https://localhost:8080/"
        }
      },
      "source": [
        "corpus_dict_frec"
      ],
      "execution_count": 35,
      "outputs": [
        {
          "output_type": "execute_result",
          "data": {
            "text/plain": [
              "{'a': 2,\n",
              " 'aca': 1,\n",
              " 'aeropuerto': 1,\n",
              " 'afuera': 1,\n",
              " 'buenos': 1,\n",
              " 'busco': 1,\n",
              " 'casa': 2,\n",
              " 'como': 4,\n",
              " 'cuadras': 1,\n",
              " 'cuando': 1,\n",
              " 'de': 2,\n",
              " 'dias': 1,\n",
              " 'donde': 3,\n",
              " 'dos': 1,\n",
              " 'el': 1,\n",
              " 'en': 2,\n",
              " 'estas': 4,\n",
              " 'estoy': 3,\n",
              " 'ey': 1,\n",
              " 'fue': 1,\n",
              " 'hola': 5,\n",
              " 'hora': 1,\n",
              " 'llamo': 1,\n",
              " 'llegando': 1,\n",
              " 'llegas': 2,\n",
              " 'luego': 1,\n",
              " 'mi': 1,\n",
              " 'no': 1,\n",
              " 'nuevo': 1,\n",
              " 'nunca': 1,\n",
              " 'por': 2,\n",
              " 'que': 2,\n",
              " 'sos': 1,\n",
              " 'tal': 1,\n",
              " 'te': 5,\n",
              " 'trabajo': 1,\n",
              " 'tu': 2,\n",
              " 'va': 1,\n",
              " 'vi': 1,\n",
              " 'viniste': 1}"
            ]
          },
          "metadata": {
            "tags": []
          },
          "execution_count": 35
        }
      ]
    },
    {
      "cell_type": "code",
      "metadata": {
        "id": "PucnssfXJNOY",
        "outputId": "7747e6d5-7afe-4a38-e075-23437f5a27da",
        "colab": {
          "base_uri": "https://localhost:8080/"
        }
      },
      "source": [
        "OneHotE = np.zeros((corpus.shape[0],pal.shape[0]))\n",
        "OneHotE.shape"
      ],
      "execution_count": 36,
      "outputs": [
        {
          "output_type": "execute_result",
          "data": {
            "text/plain": [
              "(10, 40)"
            ]
          },
          "metadata": {
            "tags": []
          },
          "execution_count": 36
        }
      ]
    },
    {
      "cell_type": "code",
      "metadata": {
        "id": "YecxUTFcqmg_"
      },
      "source": [
        "i = 0\n",
        "for doc in corpus:\n",
        "  for palabra in doc.split(\" \"):\n",
        "    # obtengo el indice donde esta almacenada la palabra en el corpus\n",
        "    index = corpus_pos.get(palabra)\n",
        "    OneHotE[i,index]=1\n",
        "  i+=1"
      ],
      "execution_count": 37,
      "outputs": []
    },
    {
      "cell_type": "code",
      "metadata": {
        "id": "9f_vJwMPy8nh",
        "outputId": "ffb9418b-32ba-4472-e0b4-9b57092966ac",
        "colab": {
          "base_uri": "https://localhost:8080/",
          "height": 36
        }
      },
      "source": [
        "# Verificamos que el algoritmo de One Hot Encoding es correcto\n",
        "# el doc en posicion 0 es:\n",
        "corpus[0]"
      ],
      "execution_count": 38,
      "outputs": [
        {
          "output_type": "execute_result",
          "data": {
            "application/vnd.google.colaboratory.intrinsic+json": {
              "type": "string"
            },
            "text/plain": [
              "'hola como estas a que hora llegas'"
            ]
          },
          "metadata": {
            "tags": []
          },
          "execution_count": 38
        }
      ]
    },
    {
      "cell_type": "code",
      "metadata": {
        "id": "gpMOUfXzy3bA",
        "outputId": "f8b7ad8c-87e0-4530-b9f3-fb2c3c9ffaba",
        "colab": {
          "base_uri": "https://localhost:8080/"
        }
      },
      "source": [
        "# El corpus de palabras de todos los docs es el siguiente\n",
        "pal"
      ],
      "execution_count": 39,
      "outputs": [
        {
          "output_type": "execute_result",
          "data": {
            "text/plain": [
              "array(['a', 'aca', 'aeropuerto', 'afuera', 'buenos', 'busco', 'casa',\n",
              "       'como', 'cuadras', 'cuando', 'de', 'dias', 'donde', 'dos', 'el',\n",
              "       'en', 'estas', 'estoy', 'ey', 'fue', 'hola', 'hora', 'llamo',\n",
              "       'llegando', 'llegas', 'luego', 'mi', 'no', 'nuevo', 'nunca', 'por',\n",
              "       'que', 'sos', 'tal', 'te', 'trabajo', 'tu', 'va', 'vi', 'viniste'],\n",
              "      dtype='<U10')"
            ]
          },
          "metadata": {
            "tags": []
          },
          "execution_count": 39
        }
      ]
    },
    {
      "cell_type": "code",
      "metadata": {
        "id": "eiEA9Ump2TEh",
        "outputId": "f93d0069-1243-42ec-f9b0-4d3eadaaa06c",
        "colab": {
          "base_uri": "https://localhost:8080/"
        }
      },
      "source": [
        "# El one hot encoding del primer documento es\n",
        "OneHotE[0,:]"
      ],
      "execution_count": 40,
      "outputs": [
        {
          "output_type": "execute_result",
          "data": {
            "text/plain": [
              "array([1., 0., 0., 0., 0., 0., 0., 1., 0., 0., 0., 0., 0., 0., 0., 0., 1.,\n",
              "       0., 0., 0., 1., 1., 0., 0., 1., 0., 0., 0., 0., 0., 0., 1., 0., 0.,\n",
              "       0., 0., 0., 0., 0., 0.])"
            ]
          },
          "metadata": {
            "tags": []
          },
          "execution_count": 40
        }
      ]
    },
    {
      "cell_type": "code",
      "metadata": {
        "id": "3-5NeiZIxGfO",
        "outputId": "5a8c7799-cbd0-45a1-8a34-47e77c5f3b69",
        "colab": {
          "base_uri": "https://localhost:8080/"
        }
      },
      "source": [
        "# Verificamos las palabras contenidas\n",
        "pal[ OneHotE[0,:].astype(int)==1 ]"
      ],
      "execution_count": 41,
      "outputs": [
        {
          "output_type": "execute_result",
          "data": {
            "text/plain": [
              "array(['a', 'como', 'estas', 'hola', 'hora', 'llegas', 'que'],\n",
              "      dtype='<U10')"
            ]
          },
          "metadata": {
            "tags": []
          },
          "execution_count": 41
        }
      ]
    },
    {
      "cell_type": "markdown",
      "metadata": {
        "id": "NvQkYe7N2pmL"
      },
      "source": [
        "Representacion en **vectores de frecuencia** "
      ]
    },
    {
      "cell_type": "code",
      "metadata": {
        "id": "RkJx0VeR-1qL",
        "outputId": "00ff90cb-279d-4a5b-dd50-518e753c96fa",
        "colab": {
          "base_uri": "https://localhost:8080/"
        }
      },
      "source": [
        "VectorFrec = np.zeros((corpus.shape[0],pal.shape[0]))\n",
        "VectorFrec.shape"
      ],
      "execution_count": 42,
      "outputs": [
        {
          "output_type": "execute_result",
          "data": {
            "text/plain": [
              "(10, 40)"
            ]
          },
          "metadata": {
            "tags": []
          },
          "execution_count": 42
        }
      ]
    },
    {
      "cell_type": "code",
      "metadata": {
        "id": "-L8HmOad3IYx"
      },
      "source": [
        "i = 0\n",
        "for doc in corpus:\n",
        "  for palabra in doc.split(\" \"):\n",
        "    # obtengo el indice donde esta almacenada la palabra en el corpus\n",
        "    index = corpus_pos.get(palabra)\n",
        "    VectorFrec[i,index]+=1\n",
        "  i+=1"
      ],
      "execution_count": 43,
      "outputs": []
    },
    {
      "cell_type": "code",
      "metadata": {
        "id": "_-mMYBUJD78Z",
        "outputId": "cc8bd593-d126-4c25-e9b3-6a960d87e698",
        "colab": {
          "base_uri": "https://localhost:8080/"
        }
      },
      "source": [
        "VectorFrec"
      ],
      "execution_count": 44,
      "outputs": [
        {
          "output_type": "execute_result",
          "data": {
            "text/plain": [
              "array([[1., 0., 0., 0., 0., 0., 0., 1., 0., 0., 0., 0., 0., 0., 0., 0.,\n",
              "        1., 0., 0., 0., 1., 1., 0., 0., 1., 0., 0., 0., 0., 0., 0., 1.,\n",
              "        0., 0., 0., 0., 0., 0., 0., 0.],\n",
              "       [0., 0., 0., 0., 0., 0., 0., 2., 0., 0., 0., 0., 0., 0., 0., 0.,\n",
              "        1., 0., 0., 0., 0., 0., 0., 0., 0., 0., 0., 0., 0., 0., 0., 1.,\n",
              "        0., 1., 1., 0., 0., 1., 0., 1.],\n",
              "       [0., 0., 0., 0., 1., 0., 0., 0., 0., 0., 0., 1., 1., 0., 0., 0.,\n",
              "        1., 0., 0., 0., 0., 0., 0., 0., 0., 0., 0., 0., 0., 0., 0., 0.,\n",
              "        0., 0., 0., 0., 0., 0., 0., 0.],\n",
              "       [0., 1., 0., 0., 0., 0., 0., 0., 0., 0., 1., 0., 1., 0., 0., 0.,\n",
              "        0., 0., 0., 0., 0., 0., 0., 0., 0., 0., 0., 0., 0., 1., 1., 0.,\n",
              "        1., 0., 1., 0., 0., 0., 1., 0.],\n",
              "       [0., 0., 0., 1., 0., 0., 1., 0., 0., 0., 1., 0., 1., 0., 0., 0.,\n",
              "        1., 1., 0., 0., 1., 0., 0., 0., 0., 0., 0., 0., 0., 0., 0., 0.,\n",
              "        0., 0., 0., 0., 1., 0., 0., 0.],\n",
              "       [1., 0., 0., 0., 0., 0., 0., 0., 1., 0., 0., 0., 0., 1., 0., 0.,\n",
              "        0., 1., 0., 0., 0., 0., 0., 1., 0., 0., 0., 0., 0., 0., 0., 0.,\n",
              "        0., 0., 0., 0., 0., 0., 0., 0.],\n",
              "       [0., 0., 0., 0., 0., 0., 0., 1., 0., 0., 0., 0., 0., 0., 0., 1.,\n",
              "        0., 0., 1., 1., 0., 0., 0., 0., 0., 0., 0., 0., 1., 0., 0., 0.,\n",
              "        0., 0., 1., 1., 1., 0., 0., 0.],\n",
              "       [0., 0., 0., 0., 0., 0., 1., 0., 0., 0., 0., 0., 0., 0., 0., 1.,\n",
              "        0., 1., 0., 0., 0., 0., 1., 0., 0., 1., 1., 1., 0., 0., 0., 0.,\n",
              "        0., 0., 1., 0., 0., 0., 0., 0.],\n",
              "       [0., 0., 1., 0., 0., 1., 0., 0., 0., 0., 0., 0., 0., 0., 1., 0.,\n",
              "        0., 0., 0., 0., 0., 0., 0., 0., 0., 0., 0., 0., 0., 0., 1., 0.,\n",
              "        0., 0., 1., 0., 0., 0., 0., 0.],\n",
              "       [0., 0., 0., 0., 0., 0., 0., 0., 0., 1., 0., 0., 0., 0., 0., 0.,\n",
              "        0., 0., 0., 0., 3., 0., 0., 0., 1., 0., 0., 0., 0., 0., 0., 0.,\n",
              "        0., 0., 0., 0., 0., 0., 0., 0.]])"
            ]
          },
          "metadata": {
            "tags": []
          },
          "execution_count": 44
        }
      ]
    },
    {
      "cell_type": "code",
      "metadata": {
        "id": "XeN6dmxvBkij",
        "outputId": "c890a3bd-27d5-4761-b6fa-774ff3d8be6b",
        "colab": {
          "base_uri": "https://localhost:8080/",
          "height": 36
        }
      },
      "source": [
        "# verificamos con algun doc que contenga repetida una palabra\n",
        "corpus[1]"
      ],
      "execution_count": 45,
      "outputs": [
        {
          "output_type": "execute_result",
          "data": {
            "application/vnd.google.colaboratory.intrinsic+json": {
              "type": "string"
            },
            "text/plain": [
              "'que tal te va como estas como viniste'"
            ]
          },
          "metadata": {
            "tags": []
          },
          "execution_count": 45
        }
      ]
    },
    {
      "cell_type": "code",
      "metadata": {
        "id": "8axo-TQC_IwO",
        "outputId": "e09b2992-78c6-4ec9-e56e-83bd53007a01",
        "colab": {
          "base_uri": "https://localhost:8080/"
        }
      },
      "source": [
        "# la palabra \"como\" (index 7) aparece dos vecees\n",
        "VectorFrec[1]"
      ],
      "execution_count": 46,
      "outputs": [
        {
          "output_type": "execute_result",
          "data": {
            "text/plain": [
              "array([0., 0., 0., 0., 0., 0., 0., 2., 0., 0., 0., 0., 0., 0., 0., 0., 1.,\n",
              "       0., 0., 0., 0., 0., 0., 0., 0., 0., 0., 0., 0., 0., 0., 1., 0., 1.,\n",
              "       1., 0., 0., 1., 0., 1.])"
            ]
          },
          "metadata": {
            "tags": []
          },
          "execution_count": 46
        }
      ]
    },
    {
      "cell_type": "code",
      "metadata": {
        "id": "LVI3WFWeA61B",
        "outputId": "d9b22bf1-205c-4732-88e1-224670583ab7",
        "colab": {
          "base_uri": "https://localhost:8080/"
        }
      },
      "source": [
        "# el corpus \n",
        "corpus_pos"
      ],
      "execution_count": 47,
      "outputs": [
        {
          "output_type": "execute_result",
          "data": {
            "text/plain": [
              "{'a': 0,\n",
              " 'aca': 1,\n",
              " 'aeropuerto': 2,\n",
              " 'afuera': 3,\n",
              " 'buenos': 4,\n",
              " 'busco': 5,\n",
              " 'casa': 6,\n",
              " 'como': 7,\n",
              " 'cuadras': 8,\n",
              " 'cuando': 9,\n",
              " 'de': 10,\n",
              " 'dias': 11,\n",
              " 'donde': 12,\n",
              " 'dos': 13,\n",
              " 'el': 14,\n",
              " 'en': 15,\n",
              " 'estas': 16,\n",
              " 'estoy': 17,\n",
              " 'ey': 18,\n",
              " 'fue': 19,\n",
              " 'hola': 20,\n",
              " 'hora': 21,\n",
              " 'llamo': 22,\n",
              " 'llegando': 23,\n",
              " 'llegas': 24,\n",
              " 'luego': 25,\n",
              " 'mi': 26,\n",
              " 'no': 27,\n",
              " 'nuevo': 28,\n",
              " 'nunca': 29,\n",
              " 'por': 30,\n",
              " 'que': 31,\n",
              " 'sos': 32,\n",
              " 'tal': 33,\n",
              " 'te': 34,\n",
              " 'trabajo': 35,\n",
              " 'tu': 36,\n",
              " 'va': 37,\n",
              " 'vi': 38,\n",
              " 'viniste': 39}"
            ]
          },
          "metadata": {
            "tags": []
          },
          "execution_count": 47
        }
      ]
    },
    {
      "cell_type": "markdown",
      "metadata": {
        "id": "5w3mulbaCBwp"
      },
      "source": [
        "Representacion en **TF-IDF**"
      ]
    },
    {
      "cell_type": "code",
      "metadata": {
        "id": "hVgOoFyOEP99"
      },
      "source": [
        "# Calculamos el vector de frecuencia inversa del corpus (IDF) con \n",
        "# IDF = log(total_doc_corpus/cant_doc_donde_aparece_C/palabra)\n",
        "total_doc_corpus = corpus.shape[0]"
      ],
      "execution_count": 48,
      "outputs": []
    },
    {
      "cell_type": "code",
      "metadata": {
        "id": "XQ3bpYVGD64Q"
      },
      "source": [
        "# Inicializo con ceros para luego contar la cantidad de documentos en que esta cada palabra\n",
        "cant_doc_palabra = np.zeros(pal.shape[0])"
      ],
      "execution_count": 49,
      "outputs": []
    },
    {
      "cell_type": "code",
      "metadata": {
        "id": "t51OD4ix7gUF"
      },
      "source": [
        "# recorro las palabras unicas en el corpus y me fijo si esta en cada doc\n",
        "for i in range(pal.shape[0]):\n",
        "  for j in range(corpus.shape[0]):\n",
        "    if pal[i] in corpus[j].split():\n",
        "      cant_doc_palabra[i] += 1      "
      ],
      "execution_count": 50,
      "outputs": []
    },
    {
      "cell_type": "code",
      "metadata": {
        "id": "Zi8DRI0Z8XIn",
        "outputId": "13cd777b-2c56-4d14-c2e1-2631e62ac23d",
        "colab": {
          "base_uri": "https://localhost:8080/"
        }
      },
      "source": [
        "cant_doc_palabra"
      ],
      "execution_count": 51,
      "outputs": [
        {
          "output_type": "execute_result",
          "data": {
            "text/plain": [
              "array([2., 1., 1., 1., 1., 1., 2., 3., 1., 1., 2., 1., 3., 1., 1., 2., 4.,\n",
              "       3., 1., 1., 3., 1., 1., 1., 2., 1., 1., 1., 1., 1., 2., 2., 1., 1.,\n",
              "       5., 1., 2., 1., 1., 1.])"
            ]
          },
          "metadata": {
            "tags": []
          },
          "execution_count": 51
        }
      ]
    },
    {
      "cell_type": "code",
      "metadata": {
        "id": "65Oa2dZd8Qb3",
        "outputId": "1010479d-88d7-4773-c9d9-7c8ac3963cb3",
        "colab": {
          "base_uri": "https://localhost:8080/"
        }
      },
      "source": [
        "#Cantidad de documentos que contienen la palabra \n",
        "dict_doc_pal = dict(zip(pal,cant_doc_palabra))\n",
        "dict_doc_pal"
      ],
      "execution_count": 52,
      "outputs": [
        {
          "output_type": "execute_result",
          "data": {
            "text/plain": [
              "{'a': 2.0,\n",
              " 'aca': 1.0,\n",
              " 'aeropuerto': 1.0,\n",
              " 'afuera': 1.0,\n",
              " 'buenos': 1.0,\n",
              " 'busco': 1.0,\n",
              " 'casa': 2.0,\n",
              " 'como': 3.0,\n",
              " 'cuadras': 1.0,\n",
              " 'cuando': 1.0,\n",
              " 'de': 2.0,\n",
              " 'dias': 1.0,\n",
              " 'donde': 3.0,\n",
              " 'dos': 1.0,\n",
              " 'el': 1.0,\n",
              " 'en': 2.0,\n",
              " 'estas': 4.0,\n",
              " 'estoy': 3.0,\n",
              " 'ey': 1.0,\n",
              " 'fue': 1.0,\n",
              " 'hola': 3.0,\n",
              " 'hora': 1.0,\n",
              " 'llamo': 1.0,\n",
              " 'llegando': 1.0,\n",
              " 'llegas': 2.0,\n",
              " 'luego': 1.0,\n",
              " 'mi': 1.0,\n",
              " 'no': 1.0,\n",
              " 'nuevo': 1.0,\n",
              " 'nunca': 1.0,\n",
              " 'por': 2.0,\n",
              " 'que': 2.0,\n",
              " 'sos': 1.0,\n",
              " 'tal': 1.0,\n",
              " 'te': 5.0,\n",
              " 'trabajo': 1.0,\n",
              " 'tu': 2.0,\n",
              " 'va': 1.0,\n",
              " 'vi': 1.0,\n",
              " 'viniste': 1.0}"
            ]
          },
          "metadata": {
            "tags": []
          },
          "execution_count": 52
        }
      ]
    },
    {
      "cell_type": "code",
      "metadata": {
        "id": "VCm64oZgE7xS",
        "outputId": "524dabd5-3815-46fe-ed2a-df233fb6c36f",
        "colab": {
          "base_uri": "https://localhost:8080/"
        }
      },
      "source": [
        "# creamos el vector IDF\n",
        "IDF = np.log(total_doc_corpus/cant_doc_palabra)\n",
        "IDF\n",
        "# vemos que la frecuencia inversa de la palabra que aparece en mas documentos es mas chica"
      ],
      "execution_count": 53,
      "outputs": [
        {
          "output_type": "execute_result",
          "data": {
            "text/plain": [
              "array([1.60943791, 2.30258509, 2.30258509, 2.30258509, 2.30258509,\n",
              "       2.30258509, 1.60943791, 1.2039728 , 2.30258509, 2.30258509,\n",
              "       1.60943791, 2.30258509, 1.2039728 , 2.30258509, 2.30258509,\n",
              "       1.60943791, 0.91629073, 1.2039728 , 2.30258509, 2.30258509,\n",
              "       1.2039728 , 2.30258509, 2.30258509, 2.30258509, 1.60943791,\n",
              "       2.30258509, 2.30258509, 2.30258509, 2.30258509, 2.30258509,\n",
              "       1.60943791, 1.60943791, 2.30258509, 2.30258509, 0.69314718,\n",
              "       2.30258509, 1.60943791, 2.30258509, 2.30258509, 2.30258509])"
            ]
          },
          "metadata": {
            "tags": []
          },
          "execution_count": 53
        }
      ]
    },
    {
      "cell_type": "code",
      "metadata": {
        "id": "yQ1Cd3a0FeY2",
        "outputId": "b4230018-2d5e-4dfb-b060-2f57e3132d9d",
        "colab": {
          "base_uri": "https://localhost:8080/"
        }
      },
      "source": [
        "# calculamos la matriz TF (cantidad de veces que una palabra aparece en cada documento por cada doc) \n",
        "TF = np.zeros((corpus.shape[0],pal.shape[0]))\n",
        "for j in range(corpus.shape[0]):\n",
        "  a,c = np.unique(corpus[j].split(),return_counts=True)\n",
        "  tfj = dict(zip(a,c))\n",
        "  print(tfj)\n",
        "  for i in range(pal.shape[0]):    \n",
        "    if pal[i] in corpus[j].split():\n",
        "      TF[j,i] = tfj.get(pal[i])  \n",
        "\n",
        "\n"
      ],
      "execution_count": 55,
      "outputs": [
        {
          "output_type": "stream",
          "text": [
            "{'a': 1, 'como': 1, 'estas': 1, 'hola': 1, 'hora': 1, 'llegas': 1, 'que': 1}\n",
            "{'como': 2, 'estas': 1, 'que': 1, 'tal': 1, 'te': 1, 'va': 1, 'viniste': 1}\n",
            "{'buenos': 1, 'dias': 1, 'donde': 1, 'estas': 1}\n",
            "{'aca': 1, 'de': 1, 'donde': 1, 'nunca': 1, 'por': 1, 'sos': 1, 'te': 1, 'vi': 1}\n",
            "{'afuera': 1, 'casa': 1, 'de': 1, 'donde': 1, 'estas': 1, 'estoy': 1, 'hola': 1, 'tu': 1}\n",
            "{'a': 1, 'cuadras': 1, 'dos': 1, 'estoy': 1, 'llegando': 1}\n",
            "{'como': 1, 'en': 1, 'ey': 1, 'fue': 1, 'nuevo': 1, 'te': 1, 'trabajo': 1, 'tu': 1}\n",
            "{'casa': 1, 'en': 1, 'estoy': 1, 'llamo': 1, 'luego': 1, 'mi': 1, 'no': 1, 'te': 1}\n",
            "{'aeropuerto': 1, 'busco': 1, 'el': 1, 'por': 1, 'te': 1}\n",
            "{'cuando': 1, 'hola': 3, 'llegas': 1}\n"
          ],
          "name": "stdout"
        }
      ]
    },
    {
      "cell_type": "code",
      "metadata": {
        "id": "CpjNWmTaGn-V",
        "outputId": "feb44599-2497-42cf-ea28-782e5dfc2a09",
        "colab": {
          "base_uri": "https://localhost:8080/"
        }
      },
      "source": [
        "TF"
      ],
      "execution_count": 56,
      "outputs": [
        {
          "output_type": "execute_result",
          "data": {
            "text/plain": [
              "array([[1., 0., 0., 0., 0., 0., 0., 1., 0., 0., 0., 0., 0., 0., 0., 0.,\n",
              "        1., 0., 0., 0., 1., 1., 0., 0., 1., 0., 0., 0., 0., 0., 0., 1.,\n",
              "        0., 0., 0., 0., 0., 0., 0., 0.],\n",
              "       [0., 0., 0., 0., 0., 0., 0., 2., 0., 0., 0., 0., 0., 0., 0., 0.,\n",
              "        1., 0., 0., 0., 0., 0., 0., 0., 0., 0., 0., 0., 0., 0., 0., 1.,\n",
              "        0., 1., 1., 0., 0., 1., 0., 1.],\n",
              "       [0., 0., 0., 0., 1., 0., 0., 0., 0., 0., 0., 1., 1., 0., 0., 0.,\n",
              "        1., 0., 0., 0., 0., 0., 0., 0., 0., 0., 0., 0., 0., 0., 0., 0.,\n",
              "        0., 0., 0., 0., 0., 0., 0., 0.],\n",
              "       [0., 1., 0., 0., 0., 0., 0., 0., 0., 0., 1., 0., 1., 0., 0., 0.,\n",
              "        0., 0., 0., 0., 0., 0., 0., 0., 0., 0., 0., 0., 0., 1., 1., 0.,\n",
              "        1., 0., 1., 0., 0., 0., 1., 0.],\n",
              "       [0., 0., 0., 1., 0., 0., 1., 0., 0., 0., 1., 0., 1., 0., 0., 0.,\n",
              "        1., 1., 0., 0., 1., 0., 0., 0., 0., 0., 0., 0., 0., 0., 0., 0.,\n",
              "        0., 0., 0., 0., 1., 0., 0., 0.],\n",
              "       [1., 0., 0., 0., 0., 0., 0., 0., 1., 0., 0., 0., 0., 1., 0., 0.,\n",
              "        0., 1., 0., 0., 0., 0., 0., 1., 0., 0., 0., 0., 0., 0., 0., 0.,\n",
              "        0., 0., 0., 0., 0., 0., 0., 0.],\n",
              "       [0., 0., 0., 0., 0., 0., 0., 1., 0., 0., 0., 0., 0., 0., 0., 1.,\n",
              "        0., 0., 1., 1., 0., 0., 0., 0., 0., 0., 0., 0., 1., 0., 0., 0.,\n",
              "        0., 0., 1., 1., 1., 0., 0., 0.],\n",
              "       [0., 0., 0., 0., 0., 0., 1., 0., 0., 0., 0., 0., 0., 0., 0., 1.,\n",
              "        0., 1., 0., 0., 0., 0., 1., 0., 0., 1., 1., 1., 0., 0., 0., 0.,\n",
              "        0., 0., 1., 0., 0., 0., 0., 0.],\n",
              "       [0., 0., 1., 0., 0., 1., 0., 0., 0., 0., 0., 0., 0., 0., 1., 0.,\n",
              "        0., 0., 0., 0., 0., 0., 0., 0., 0., 0., 0., 0., 0., 0., 1., 0.,\n",
              "        0., 0., 1., 0., 0., 0., 0., 0.],\n",
              "       [0., 0., 0., 0., 0., 0., 0., 0., 0., 1., 0., 0., 0., 0., 0., 0.,\n",
              "        0., 0., 0., 0., 3., 0., 0., 0., 1., 0., 0., 0., 0., 0., 0., 0.,\n",
              "        0., 0., 0., 0., 0., 0., 0., 0.]])"
            ]
          },
          "metadata": {
            "tags": []
          },
          "execution_count": 56
        }
      ]
    },
    {
      "cell_type": "code",
      "metadata": {
        "id": "M1OwpP9jXjzI",
        "outputId": "c530e9af-1436-4dbb-f07d-211345f9131f",
        "colab": {
          "base_uri": "https://localhost:8080/"
        }
      },
      "source": [
        "TF.shape"
      ],
      "execution_count": 57,
      "outputs": [
        {
          "output_type": "execute_result",
          "data": {
            "text/plain": [
              "(10, 40)"
            ]
          },
          "metadata": {
            "tags": []
          },
          "execution_count": 57
        }
      ]
    },
    {
      "cell_type": "code",
      "metadata": {
        "id": "tn-7F9jkXnx2",
        "outputId": "e56c6a6a-3191-4bdc-b44b-480fbb11eb5e",
        "colab": {
          "base_uri": "https://localhost:8080/"
        }
      },
      "source": [
        "IDF.shape"
      ],
      "execution_count": 58,
      "outputs": [
        {
          "output_type": "execute_result",
          "data": {
            "text/plain": [
              "(40,)"
            ]
          },
          "metadata": {
            "tags": []
          },
          "execution_count": 58
        }
      ]
    },
    {
      "cell_type": "code",
      "metadata": {
        "id": "GNRp6gEJXqNQ",
        "outputId": "c9c43f8b-f5d4-49dd-aca6-bbbfdac97d4d",
        "colab": {
          "base_uri": "https://localhost:8080/"
        }
      },
      "source": [
        "TF_IDF = TF * IDF\n",
        "TF_IDF.shape"
      ],
      "execution_count": 59,
      "outputs": [
        {
          "output_type": "execute_result",
          "data": {
            "text/plain": [
              "(10, 40)"
            ]
          },
          "metadata": {
            "tags": []
          },
          "execution_count": 59
        }
      ]
    },
    {
      "cell_type": "code",
      "metadata": {
        "id": "dSS69G5oYcUh",
        "outputId": "cebbae7b-cf6c-403f-f642-42f319f0c725",
        "colab": {
          "base_uri": "https://localhost:8080/"
        }
      },
      "source": [
        "TF_IDF"
      ],
      "execution_count": 60,
      "outputs": [
        {
          "output_type": "execute_result",
          "data": {
            "text/plain": [
              "array([[1.60943791, 0.        , 0.        , 0.        , 0.        ,\n",
              "        0.        , 0.        , 1.2039728 , 0.        , 0.        ,\n",
              "        0.        , 0.        , 0.        , 0.        , 0.        ,\n",
              "        0.        , 0.91629073, 0.        , 0.        , 0.        ,\n",
              "        1.2039728 , 2.30258509, 0.        , 0.        , 1.60943791,\n",
              "        0.        , 0.        , 0.        , 0.        , 0.        ,\n",
              "        0.        , 1.60943791, 0.        , 0.        , 0.        ,\n",
              "        0.        , 0.        , 0.        , 0.        , 0.        ],\n",
              "       [0.        , 0.        , 0.        , 0.        , 0.        ,\n",
              "        0.        , 0.        , 2.40794561, 0.        , 0.        ,\n",
              "        0.        , 0.        , 0.        , 0.        , 0.        ,\n",
              "        0.        , 0.91629073, 0.        , 0.        , 0.        ,\n",
              "        0.        , 0.        , 0.        , 0.        , 0.        ,\n",
              "        0.        , 0.        , 0.        , 0.        , 0.        ,\n",
              "        0.        , 1.60943791, 0.        , 2.30258509, 0.69314718,\n",
              "        0.        , 0.        , 2.30258509, 0.        , 2.30258509],\n",
              "       [0.        , 0.        , 0.        , 0.        , 2.30258509,\n",
              "        0.        , 0.        , 0.        , 0.        , 0.        ,\n",
              "        0.        , 2.30258509, 1.2039728 , 0.        , 0.        ,\n",
              "        0.        , 0.91629073, 0.        , 0.        , 0.        ,\n",
              "        0.        , 0.        , 0.        , 0.        , 0.        ,\n",
              "        0.        , 0.        , 0.        , 0.        , 0.        ,\n",
              "        0.        , 0.        , 0.        , 0.        , 0.        ,\n",
              "        0.        , 0.        , 0.        , 0.        , 0.        ],\n",
              "       [0.        , 2.30258509, 0.        , 0.        , 0.        ,\n",
              "        0.        , 0.        , 0.        , 0.        , 0.        ,\n",
              "        1.60943791, 0.        , 1.2039728 , 0.        , 0.        ,\n",
              "        0.        , 0.        , 0.        , 0.        , 0.        ,\n",
              "        0.        , 0.        , 0.        , 0.        , 0.        ,\n",
              "        0.        , 0.        , 0.        , 0.        , 2.30258509,\n",
              "        1.60943791, 0.        , 2.30258509, 0.        , 0.69314718,\n",
              "        0.        , 0.        , 0.        , 2.30258509, 0.        ],\n",
              "       [0.        , 0.        , 0.        , 2.30258509, 0.        ,\n",
              "        0.        , 1.60943791, 0.        , 0.        , 0.        ,\n",
              "        1.60943791, 0.        , 1.2039728 , 0.        , 0.        ,\n",
              "        0.        , 0.91629073, 1.2039728 , 0.        , 0.        ,\n",
              "        1.2039728 , 0.        , 0.        , 0.        , 0.        ,\n",
              "        0.        , 0.        , 0.        , 0.        , 0.        ,\n",
              "        0.        , 0.        , 0.        , 0.        , 0.        ,\n",
              "        0.        , 1.60943791, 0.        , 0.        , 0.        ],\n",
              "       [1.60943791, 0.        , 0.        , 0.        , 0.        ,\n",
              "        0.        , 0.        , 0.        , 2.30258509, 0.        ,\n",
              "        0.        , 0.        , 0.        , 2.30258509, 0.        ,\n",
              "        0.        , 0.        , 1.2039728 , 0.        , 0.        ,\n",
              "        0.        , 0.        , 0.        , 2.30258509, 0.        ,\n",
              "        0.        , 0.        , 0.        , 0.        , 0.        ,\n",
              "        0.        , 0.        , 0.        , 0.        , 0.        ,\n",
              "        0.        , 0.        , 0.        , 0.        , 0.        ],\n",
              "       [0.        , 0.        , 0.        , 0.        , 0.        ,\n",
              "        0.        , 0.        , 1.2039728 , 0.        , 0.        ,\n",
              "        0.        , 0.        , 0.        , 0.        , 0.        ,\n",
              "        1.60943791, 0.        , 0.        , 2.30258509, 2.30258509,\n",
              "        0.        , 0.        , 0.        , 0.        , 0.        ,\n",
              "        0.        , 0.        , 0.        , 2.30258509, 0.        ,\n",
              "        0.        , 0.        , 0.        , 0.        , 0.69314718,\n",
              "        2.30258509, 1.60943791, 0.        , 0.        , 0.        ],\n",
              "       [0.        , 0.        , 0.        , 0.        , 0.        ,\n",
              "        0.        , 1.60943791, 0.        , 0.        , 0.        ,\n",
              "        0.        , 0.        , 0.        , 0.        , 0.        ,\n",
              "        1.60943791, 0.        , 1.2039728 , 0.        , 0.        ,\n",
              "        0.        , 0.        , 2.30258509, 0.        , 0.        ,\n",
              "        2.30258509, 2.30258509, 2.30258509, 0.        , 0.        ,\n",
              "        0.        , 0.        , 0.        , 0.        , 0.69314718,\n",
              "        0.        , 0.        , 0.        , 0.        , 0.        ],\n",
              "       [0.        , 0.        , 2.30258509, 0.        , 0.        ,\n",
              "        2.30258509, 0.        , 0.        , 0.        , 0.        ,\n",
              "        0.        , 0.        , 0.        , 0.        , 2.30258509,\n",
              "        0.        , 0.        , 0.        , 0.        , 0.        ,\n",
              "        0.        , 0.        , 0.        , 0.        , 0.        ,\n",
              "        0.        , 0.        , 0.        , 0.        , 0.        ,\n",
              "        1.60943791, 0.        , 0.        , 0.        , 0.69314718,\n",
              "        0.        , 0.        , 0.        , 0.        , 0.        ],\n",
              "       [0.        , 0.        , 0.        , 0.        , 0.        ,\n",
              "        0.        , 0.        , 0.        , 0.        , 2.30258509,\n",
              "        0.        , 0.        , 0.        , 0.        , 0.        ,\n",
              "        0.        , 0.        , 0.        , 0.        , 0.        ,\n",
              "        3.61191841, 0.        , 0.        , 0.        , 1.60943791,\n",
              "        0.        , 0.        , 0.        , 0.        , 0.        ,\n",
              "        0.        , 0.        , 0.        , 0.        , 0.        ,\n",
              "        0.        , 0.        , 0.        , 0.        , 0.        ]])"
            ]
          },
          "metadata": {
            "tags": []
          },
          "execution_count": 60
        }
      ]
    },
    {
      "cell_type": "markdown",
      "metadata": {
        "id": "IOFdmpz4ZIW-"
      },
      "source": [
        "Similitud **Coseno**"
      ]
    },
    {
      "cell_type": "code",
      "metadata": {
        "id": "hQnR0tBMZSz9"
      },
      "source": [
        "# 1 -> Cuando los textos son parecidos\n",
        "#0  -> Cuando los textos son diferentes\n",
        "def Compute_Cosine_Sim(tfidf,doc):\n",
        "  Cos_sim = list()\n",
        "  for i in range(tfidf.shape[0]):\n",
        "    Cos_sim.append(np.inner(tfidf[i,:],tfidf[doc,:])/(np.linalg.norm(tfidf[i,:]) * np.linalg.norm(tfidf[doc,:])))\n",
        "  \n",
        "  index = np.arange(tfidf.shape[0])\n",
        "  Data = pd.DataFrame({'Doc':index.T,'Cosine Sim':cos_sim})\n",
        "  Data.set_index('Doc', inplace=True)\n",
        "  Data = Data.sort_values('Cosine Sim',ascending=False)\n",
        "  return Data\n"
      ],
      "execution_count": 109,
      "outputs": []
    },
    {
      "cell_type": "markdown",
      "metadata": {
        "id": "fAj-N0tquRZn"
      },
      "source": [
        "Los documentos mas similares son:"
      ]
    },
    {
      "cell_type": "code",
      "metadata": {
        "id": "vwvnywR4td2U",
        "outputId": "fd31e20b-147a-4d57-900e-5b450e2690da",
        "colab": {
          "base_uri": "https://localhost:8080/",
          "height": 394
        }
      },
      "source": [
        "Compute_Cosine_Sim(TF_IDF,1)"
      ],
      "execution_count": 110,
      "outputs": [
        {
          "output_type": "execute_result",
          "data": {
            "text/html": [
              "<div>\n",
              "<style scoped>\n",
              "    .dataframe tbody tr th:only-of-type {\n",
              "        vertical-align: middle;\n",
              "    }\n",
              "\n",
              "    .dataframe tbody tr th {\n",
              "        vertical-align: top;\n",
              "    }\n",
              "\n",
              "    .dataframe thead th {\n",
              "        text-align: right;\n",
              "    }\n",
              "</style>\n",
              "<table border=\"1\" class=\"dataframe\">\n",
              "  <thead>\n",
              "    <tr style=\"text-align: right;\">\n",
              "      <th></th>\n",
              "      <th>Cosine Sim</th>\n",
              "    </tr>\n",
              "    <tr>\n",
              "      <th>Doc</th>\n",
              "      <th></th>\n",
              "    </tr>\n",
              "  </thead>\n",
              "  <tbody>\n",
              "    <tr>\n",
              "      <th>1</th>\n",
              "      <td>1.000000</td>\n",
              "    </tr>\n",
              "    <tr>\n",
              "      <th>0</th>\n",
              "      <td>0.304993</td>\n",
              "    </tr>\n",
              "    <tr>\n",
              "      <th>6</th>\n",
              "      <td>0.125483</td>\n",
              "    </tr>\n",
              "    <tr>\n",
              "      <th>2</th>\n",
              "      <td>0.046201</td>\n",
              "    </tr>\n",
              "    <tr>\n",
              "      <th>4</th>\n",
              "      <td>0.038821</td>\n",
              "    </tr>\n",
              "    <tr>\n",
              "      <th>8</th>\n",
              "      <td>0.021792</td>\n",
              "    </tr>\n",
              "    <tr>\n",
              "      <th>3</th>\n",
              "      <td>0.017839</td>\n",
              "    </tr>\n",
              "    <tr>\n",
              "      <th>7</th>\n",
              "      <td>0.017839</td>\n",
              "    </tr>\n",
              "    <tr>\n",
              "      <th>5</th>\n",
              "      <td>0.000000</td>\n",
              "    </tr>\n",
              "    <tr>\n",
              "      <th>9</th>\n",
              "      <td>0.000000</td>\n",
              "    </tr>\n",
              "  </tbody>\n",
              "</table>\n",
              "</div>"
            ],
            "text/plain": [
              "     Cosine Sim\n",
              "Doc            \n",
              "1      1.000000\n",
              "0      0.304993\n",
              "6      0.125483\n",
              "2      0.046201\n",
              "4      0.038821\n",
              "8      0.021792\n",
              "3      0.017839\n",
              "7      0.017839\n",
              "5      0.000000\n",
              "9      0.000000"
            ]
          },
          "metadata": {
            "tags": []
          },
          "execution_count": 110
        }
      ]
    },
    {
      "cell_type": "markdown",
      "metadata": {
        "id": "Qop4hNL9xShz"
      },
      "source": [
        "Utilizando matrices sparce para TF_IDF"
      ]
    },
    {
      "cell_type": "code",
      "metadata": {
        "id": "5icSBBF36CMe"
      },
      "source": [
        "from scipy.sparse import csr_matrix \n",
        "mask = TF_IDF != 0\n",
        "row,col = np.where(mask)\n",
        "data = TF_IDF[mask]\n"
      ],
      "execution_count": 121,
      "outputs": []
    },
    {
      "cell_type": "code",
      "metadata": {
        "id": "0peI9sLg9bCW",
        "outputId": "ad323a94-0204-4377-ef37-af906a8607b2",
        "colab": {
          "base_uri": "https://localhost:8080/"
        }
      },
      "source": [
        "row,col"
      ],
      "execution_count": 124,
      "outputs": [
        {
          "output_type": "execute_result",
          "data": {
            "text/plain": [
              "(array([0, 0, 0, 0, 0, 0, 0, 1, 1, 1, 1, 1, 1, 1, 2, 2, 2, 2, 3, 3, 3, 3,\n",
              "        3, 3, 3, 3, 4, 4, 4, 4, 4, 4, 4, 4, 5, 5, 5, 5, 5, 6, 6, 6, 6, 6,\n",
              "        6, 6, 6, 7, 7, 7, 7, 7, 7, 7, 7, 8, 8, 8, 8, 8, 9, 9, 9]),\n",
              " array([ 0,  7, 16, 20, 21, 24, 31,  7, 16, 31, 33, 34, 37, 39,  4, 11, 12,\n",
              "        16,  1, 10, 12, 29, 30, 32, 34, 38,  3,  6, 10, 12, 16, 17, 20, 36,\n",
              "         0,  8, 13, 17, 23,  7, 15, 18, 19, 28, 34, 35, 36,  6, 15, 17, 22,\n",
              "        25, 26, 27, 34,  2,  5, 14, 30, 34,  9, 20, 24]))"
            ]
          },
          "metadata": {
            "tags": []
          },
          "execution_count": 124
        }
      ]
    },
    {
      "cell_type": "code",
      "metadata": {
        "id": "SyqtElx66tQe",
        "outputId": "c0d9f71a-e29f-4f63-bb29-985ff80a6907",
        "colab": {
          "base_uri": "https://localhost:8080/"
        }
      },
      "source": [
        "data"
      ],
      "execution_count": 122,
      "outputs": [
        {
          "output_type": "execute_result",
          "data": {
            "text/plain": [
              "array([1.60943791, 1.2039728 , 0.91629073, 1.2039728 , 2.30258509,\n",
              "       1.60943791, 1.60943791, 2.40794561, 0.91629073, 1.60943791,\n",
              "       2.30258509, 0.69314718, 2.30258509, 2.30258509, 2.30258509,\n",
              "       2.30258509, 1.2039728 , 0.91629073, 2.30258509, 1.60943791,\n",
              "       1.2039728 , 2.30258509, 1.60943791, 2.30258509, 0.69314718,\n",
              "       2.30258509, 2.30258509, 1.60943791, 1.60943791, 1.2039728 ,\n",
              "       0.91629073, 1.2039728 , 1.2039728 , 1.60943791, 1.60943791,\n",
              "       2.30258509, 2.30258509, 1.2039728 , 2.30258509, 1.2039728 ,\n",
              "       1.60943791, 2.30258509, 2.30258509, 2.30258509, 0.69314718,\n",
              "       2.30258509, 1.60943791, 1.60943791, 1.60943791, 1.2039728 ,\n",
              "       2.30258509, 2.30258509, 2.30258509, 2.30258509, 0.69314718,\n",
              "       2.30258509, 2.30258509, 2.30258509, 1.60943791, 0.69314718,\n",
              "       2.30258509, 3.61191841, 1.60943791])"
            ]
          },
          "metadata": {
            "tags": []
          },
          "execution_count": 122
        }
      ]
    },
    {
      "cell_type": "code",
      "metadata": {
        "id": "TtVAr4Oz7ajq",
        "outputId": "7f93fba7-a34d-45a4-f1c7-429b23914cbf",
        "colab": {
          "base_uri": "https://localhost:8080/"
        }
      },
      "source": [
        "# Recuperamos la matriz original \n",
        "csr_matrix( (data,(row,col)) , shape =TF_IDF.shape ).toarray()"
      ],
      "execution_count": 123,
      "outputs": [
        {
          "output_type": "execute_result",
          "data": {
            "text/plain": [
              "array([[1.60943791, 0.        , 0.        , 0.        , 0.        ,\n",
              "        0.        , 0.        , 1.2039728 , 0.        , 0.        ,\n",
              "        0.        , 0.        , 0.        , 0.        , 0.        ,\n",
              "        0.        , 0.91629073, 0.        , 0.        , 0.        ,\n",
              "        1.2039728 , 2.30258509, 0.        , 0.        , 1.60943791,\n",
              "        0.        , 0.        , 0.        , 0.        , 0.        ,\n",
              "        0.        , 1.60943791, 0.        , 0.        , 0.        ,\n",
              "        0.        , 0.        , 0.        , 0.        , 0.        ],\n",
              "       [0.        , 0.        , 0.        , 0.        , 0.        ,\n",
              "        0.        , 0.        , 2.40794561, 0.        , 0.        ,\n",
              "        0.        , 0.        , 0.        , 0.        , 0.        ,\n",
              "        0.        , 0.91629073, 0.        , 0.        , 0.        ,\n",
              "        0.        , 0.        , 0.        , 0.        , 0.        ,\n",
              "        0.        , 0.        , 0.        , 0.        , 0.        ,\n",
              "        0.        , 1.60943791, 0.        , 2.30258509, 0.69314718,\n",
              "        0.        , 0.        , 2.30258509, 0.        , 2.30258509],\n",
              "       [0.        , 0.        , 0.        , 0.        , 2.30258509,\n",
              "        0.        , 0.        , 0.        , 0.        , 0.        ,\n",
              "        0.        , 2.30258509, 1.2039728 , 0.        , 0.        ,\n",
              "        0.        , 0.91629073, 0.        , 0.        , 0.        ,\n",
              "        0.        , 0.        , 0.        , 0.        , 0.        ,\n",
              "        0.        , 0.        , 0.        , 0.        , 0.        ,\n",
              "        0.        , 0.        , 0.        , 0.        , 0.        ,\n",
              "        0.        , 0.        , 0.        , 0.        , 0.        ],\n",
              "       [0.        , 2.30258509, 0.        , 0.        , 0.        ,\n",
              "        0.        , 0.        , 0.        , 0.        , 0.        ,\n",
              "        1.60943791, 0.        , 1.2039728 , 0.        , 0.        ,\n",
              "        0.        , 0.        , 0.        , 0.        , 0.        ,\n",
              "        0.        , 0.        , 0.        , 0.        , 0.        ,\n",
              "        0.        , 0.        , 0.        , 0.        , 2.30258509,\n",
              "        1.60943791, 0.        , 2.30258509, 0.        , 0.69314718,\n",
              "        0.        , 0.        , 0.        , 2.30258509, 0.        ],\n",
              "       [0.        , 0.        , 0.        , 2.30258509, 0.        ,\n",
              "        0.        , 1.60943791, 0.        , 0.        , 0.        ,\n",
              "        1.60943791, 0.        , 1.2039728 , 0.        , 0.        ,\n",
              "        0.        , 0.91629073, 1.2039728 , 0.        , 0.        ,\n",
              "        1.2039728 , 0.        , 0.        , 0.        , 0.        ,\n",
              "        0.        , 0.        , 0.        , 0.        , 0.        ,\n",
              "        0.        , 0.        , 0.        , 0.        , 0.        ,\n",
              "        0.        , 1.60943791, 0.        , 0.        , 0.        ],\n",
              "       [1.60943791, 0.        , 0.        , 0.        , 0.        ,\n",
              "        0.        , 0.        , 0.        , 2.30258509, 0.        ,\n",
              "        0.        , 0.        , 0.        , 2.30258509, 0.        ,\n",
              "        0.        , 0.        , 1.2039728 , 0.        , 0.        ,\n",
              "        0.        , 0.        , 0.        , 2.30258509, 0.        ,\n",
              "        0.        , 0.        , 0.        , 0.        , 0.        ,\n",
              "        0.        , 0.        , 0.        , 0.        , 0.        ,\n",
              "        0.        , 0.        , 0.        , 0.        , 0.        ],\n",
              "       [0.        , 0.        , 0.        , 0.        , 0.        ,\n",
              "        0.        , 0.        , 1.2039728 , 0.        , 0.        ,\n",
              "        0.        , 0.        , 0.        , 0.        , 0.        ,\n",
              "        1.60943791, 0.        , 0.        , 2.30258509, 2.30258509,\n",
              "        0.        , 0.        , 0.        , 0.        , 0.        ,\n",
              "        0.        , 0.        , 0.        , 2.30258509, 0.        ,\n",
              "        0.        , 0.        , 0.        , 0.        , 0.69314718,\n",
              "        2.30258509, 1.60943791, 0.        , 0.        , 0.        ],\n",
              "       [0.        , 0.        , 0.        , 0.        , 0.        ,\n",
              "        0.        , 1.60943791, 0.        , 0.        , 0.        ,\n",
              "        0.        , 0.        , 0.        , 0.        , 0.        ,\n",
              "        1.60943791, 0.        , 1.2039728 , 0.        , 0.        ,\n",
              "        0.        , 0.        , 2.30258509, 0.        , 0.        ,\n",
              "        2.30258509, 2.30258509, 2.30258509, 0.        , 0.        ,\n",
              "        0.        , 0.        , 0.        , 0.        , 0.69314718,\n",
              "        0.        , 0.        , 0.        , 0.        , 0.        ],\n",
              "       [0.        , 0.        , 2.30258509, 0.        , 0.        ,\n",
              "        2.30258509, 0.        , 0.        , 0.        , 0.        ,\n",
              "        0.        , 0.        , 0.        , 0.        , 2.30258509,\n",
              "        0.        , 0.        , 0.        , 0.        , 0.        ,\n",
              "        0.        , 0.        , 0.        , 0.        , 0.        ,\n",
              "        0.        , 0.        , 0.        , 0.        , 0.        ,\n",
              "        1.60943791, 0.        , 0.        , 0.        , 0.69314718,\n",
              "        0.        , 0.        , 0.        , 0.        , 0.        ],\n",
              "       [0.        , 0.        , 0.        , 0.        , 0.        ,\n",
              "        0.        , 0.        , 0.        , 0.        , 2.30258509,\n",
              "        0.        , 0.        , 0.        , 0.        , 0.        ,\n",
              "        0.        , 0.        , 0.        , 0.        , 0.        ,\n",
              "        3.61191841, 0.        , 0.        , 0.        , 1.60943791,\n",
              "        0.        , 0.        , 0.        , 0.        , 0.        ,\n",
              "        0.        , 0.        , 0.        , 0.        , 0.        ,\n",
              "        0.        , 0.        , 0.        , 0.        , 0.        ]])"
            ]
          },
          "metadata": {
            "tags": []
          },
          "execution_count": 123
        }
      ]
    }
  ]
}